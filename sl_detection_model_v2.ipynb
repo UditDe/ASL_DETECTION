{
 "cells": [
  {
   "cell_type": "markdown",
   "metadata": {},
   "source": [
    "## Load and Preprocess Data Manually\n",
    "\n",
    "Since we are not using `ImageDataGenerator`, you need to load and preprocess images manually."
   ]
  },
  {
   "cell_type": "code",
   "execution_count": 1,
   "metadata": {},
   "outputs": [
    {
     "ename": "KeyboardInterrupt",
     "evalue": "",
     "output_type": "error",
     "traceback": [
      "\u001b[1;31m---------------------------------------------------------------------------\u001b[0m",
      "\u001b[1;31mKeyboardInterrupt\u001b[0m                         Traceback (most recent call last)",
      "Cell \u001b[1;32mIn[1], line 20\u001b[0m\n\u001b[0;32m     18\u001b[0m \u001b[38;5;28;01mfor\u001b[39;00m img_name \u001b[38;5;129;01min\u001b[39;00m os\u001b[38;5;241m.\u001b[39mlistdir(class_path):\n\u001b[0;32m     19\u001b[0m     img_path \u001b[38;5;241m=\u001b[39m os\u001b[38;5;241m.\u001b[39mpath\u001b[38;5;241m.\u001b[39mjoin(class_path, img_name)\n\u001b[1;32m---> 20\u001b[0m     img \u001b[38;5;241m=\u001b[39m \u001b[43mcv2\u001b[49m\u001b[38;5;241;43m.\u001b[39;49m\u001b[43mimread\u001b[49m\u001b[43m(\u001b[49m\u001b[43mimg_path\u001b[49m\u001b[43m)\u001b[49m  \u001b[38;5;66;03m# Read image\u001b[39;00m\n\u001b[0;32m     21\u001b[0m     img \u001b[38;5;241m=\u001b[39m cv2\u001b[38;5;241m.\u001b[39mresize(img, (IMG_SIZE, IMG_SIZE))  \u001b[38;5;66;03m# Resize\u001b[39;00m\n\u001b[0;32m     22\u001b[0m     X\u001b[38;5;241m.\u001b[39mappend(img)\n",
      "\u001b[1;31mKeyboardInterrupt\u001b[0m: "
     ]
    }
   ],
   "source": [
    "import os\n",
    "import cv2\n",
    "import numpy as np\n",
    "\n",
    "# Define dataset path\n",
    "DATASET_PATH = \"datasets/asl_alphabet_train/asl_alphabet_train\"\n",
    "CLASSES = sorted(os.listdir(DATASET_PATH))  # 29 classes (A-Z, space, del, nothing)\n",
    "\n",
    "# Image dimensions\n",
    "IMG_SIZE = 64  # Resize to 64x64 pixels\n",
    "\n",
    "# Lists to store images and labels\n",
    "X, Y = [], []\n",
    "\n",
    "# Load images and labels\n",
    "for label, class_name in enumerate(CLASSES):\n",
    "    class_path = os.path.join(DATASET_PATH, class_name)\n",
    "    for img_name in os.listdir(class_path):\n",
    "        img_path = os.path.join(class_path, img_name)\n",
    "        img = cv2.imread(img_path)  # Read image\n",
    "        img = cv2.resize(img, (IMG_SIZE, IMG_SIZE))  # Resize\n",
    "        X.append(img)\n",
    "        Y.append(label)  # Assign label to image\n",
    "\n",
    "# Convert lists to NumPy arrays\n",
    "X = np.array(X, dtype=np.float32) / 255.0  # Normalize images\n",
    "Y = np.array(Y, dtype=np.int64)  # Labels\n"
   ]
  },
  {
   "cell_type": "markdown",
   "metadata": {},
   "source": [
    "✅ Now, X contains images, and Y contains corresponding labels (0 to 28)."
   ]
  },
  {
   "cell_type": "markdown",
   "metadata": {},
   "source": [
    "### Split Data Into Training & Validation Sets"
   ]
  },
  {
   "cell_type": "code",
   "execution_count": null,
   "metadata": {},
   "outputs": [],
   "source": [
    "from sklearn.model_selection import train_test_split\n",
    "\n",
    "# Split dataset (80% training, 20% validation)\n",
    "X_train, X_val, Y_train, Y_val = train_test_split(X, Y, test_size=0.2, random_state=42)\n",
    "\n",
    "print(f\"Training samples: {len(X_train)}, Validation samples: {len(X_val)}\")\n"
   ]
  },
  {
   "cell_type": "markdown",
   "metadata": {},
   "source": [
    "### Build a Custom CNN Without TensorFlow\n",
    "\n",
    "We'll use NumPy to manually implement convolutions, but for efficiency, I'll use PyTorch (optional) to handle automatic differentiation."
   ]
  },
  {
   "cell_type": "code",
   "execution_count": null,
   "metadata": {},
   "outputs": [],
   "source": [
    "import torch\n",
    "import torch.nn as nn\n",
    "import torch.optim as optim\n",
    "from torch.utils.data import TensorDataset, DataLoader\n",
    "\n",
    "# Convert NumPy arrays to PyTorch tensors\n",
    "X_train_tensor = torch.tensor(X_train).permute(0, 3, 1, 2)  # Change shape to (N, C, H, W)\n",
    "Y_train_tensor = torch.tensor(Y_train)\n",
    "\n",
    "X_val_tensor = torch.tensor(X_val).permute(0, 3, 1, 2)\n",
    "Y_val_tensor = torch.tensor(Y_val)\n",
    "\n",
    "# Create DataLoader\n",
    "train_dataset = TensorDataset(X_train_tensor, Y_train_tensor)\n",
    "val_dataset = TensorDataset(X_val_tensor, Y_val_tensor)\n",
    "\n",
    "train_loader = DataLoader(train_dataset, batch_size=32, shuffle=True)\n",
    "val_loader = DataLoader(val_dataset, batch_size=32, shuffle=False)\n",
    "\n",
    "# Define CNN Model (Custom Implementation)\n",
    "class SignLanguageCNN(nn.Module):\n",
    "    def __init__(self):\n",
    "        super(SignLanguageCNN, self).__init__()\n",
    "        self.conv1 = nn.Conv2d(3, 32, kernel_size=3, stride=1, padding=1)\n",
    "        self.pool = nn.MaxPool2d(kernel_size=2, stride=2)\n",
    "        self.conv2 = nn.Conv2d(32, 64, kernel_size=3, stride=1, padding=1)\n",
    "        self.fc1 = nn.Linear(64 * 16 * 16, 128)  # Adjust based on image size\n",
    "        self.fc2 = nn.Linear(128, 29)  # 29 output classes (A-Z, space, del, nothing)\n",
    "        self.dropout = nn.Dropout(0.5)\n",
    "\n",
    "    def forward(self, x):\n",
    "        x = self.pool(torch.relu(self.conv1(x)))\n",
    "        x = self.pool(torch.relu(self.conv2(x)))\n",
    "        x = torch.flatten(x, start_dim=1)\n",
    "        x = torch.relu(self.fc1(x))\n",
    "        x = self.dropout(x)\n",
    "        x = self.fc2(x)  # No softmax (CrossEntropyLoss applies it)\n",
    "        return x\n",
    "\n",
    "# Initialize model, loss function, and optimizer\n",
    "model = SignLanguageCNN()\n",
    "criterion = nn.CrossEntropyLoss()\n",
    "optimizer = optim.Adam(model.parameters(), lr=0.001)\n"
   ]
  },
  {
   "cell_type": "markdown",
   "metadata": {},
   "source": [
    "✅Now, we have a PyTorch-based CNN instead of TensorFlow."
   ]
  }
 ],
 "metadata": {
  "kernelspec": {
   "display_name": ".venv",
   "language": "python",
   "name": "python3"
  },
  "language_info": {
   "codemirror_mode": {
    "name": "ipython",
    "version": 3
   },
   "file_extension": ".py",
   "mimetype": "text/x-python",
   "name": "python",
   "nbconvert_exporter": "python",
   "pygments_lexer": "ipython3",
   "version": "3.8.1"
  }
 },
 "nbformat": 4,
 "nbformat_minor": 2
}
