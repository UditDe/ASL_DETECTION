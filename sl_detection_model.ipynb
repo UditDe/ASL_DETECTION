{
 "cells": [
  {
   "cell_type": "markdown",
   "metadata": {},
   "source": [
    "# ASL MODEL"
   ]
  },
  {
   "cell_type": "markdown",
   "metadata": {},
   "source": [
    "## Load the Dataset in Python"
   ]
  },
  {
   "cell_type": "code",
   "execution_count": 5,
   "metadata": {},
   "outputs": [],
   "source": [
    "import tensorflow as tf\n",
    "from tensorflow.keras.preprocessing.image import ImageDataGenerator"
   ]
  },
  {
   "cell_type": "code",
   "execution_count": 6,
   "metadata": {},
   "outputs": [],
   "source": [
    "# Define image size and batch size\n",
    "IMG_SIZE = 64  # Resize images to 64x64 pixels\n",
    "BATCH_SIZE = 32"
   ]
  },
  {
   "cell_type": "code",
   "execution_count": 7,
   "metadata": {},
   "outputs": [],
   "source": [
    "# Data augmentation & normalization\n",
    "datagen = ImageDataGenerator(\n",
    "    rescale=1./255, \n",
    "    validation_split=0.2  # 80% training, 20% validation\n",
    ")"
   ]
  },
  {
   "cell_type": "markdown",
   "metadata": {},
   "source": [
    "#### Check If You Have the Correct Dataset & Verify the Folder Structure "
   ]
  },
  {
   "cell_type": "code",
   "execution_count": 8,
   "metadata": {},
   "outputs": [
    {
     "name": "stdout",
     "output_type": "stream",
     "text": [
      "['asl_alphabet_test', 'asl_alphabet_train']\n",
      "['A', 'B', 'C', 'D', 'del', 'E', 'F', 'G', 'H', 'I', 'J', 'K', 'L', 'M', 'N', 'nothing', 'O', 'P', 'Q', 'R', 'S', 'space', 'T', 'U', 'V', 'W', 'X', 'Y', 'Z']\n"
     ]
    }
   ],
   "source": [
    "import os\n",
    "print(os.listdir(\"datasets/\"))\n",
    "print(os.listdir(\"datasets/asl_alphabet_train/asl_alphabet_train/\"))"
   ]
  },
  {
   "cell_type": "markdown",
   "metadata": {},
   "source": [
    "### Load Training Data"
   ]
  },
  {
   "cell_type": "code",
   "execution_count": 9,
   "metadata": {},
   "outputs": [
    {
     "name": "stdout",
     "output_type": "stream",
     "text": [
      "Found 69600 images belonging to 29 classes.\n"
     ]
    }
   ],
   "source": [
    "\n",
    "train_data = datagen.flow_from_directory(\n",
    "    \"datasets/asl_alphabet_train/asl_alphabet_train/\",\n",
    "    target_size=(IMG_SIZE, IMG_SIZE),\n",
    "    batch_size=BATCH_SIZE,\n",
    "    class_mode='categorical',\n",
    "    subset=\"training\"\n",
    ")"
   ]
  },
  {
   "cell_type": "markdown",
   "metadata": {},
   "source": [
    "### Load Validation Data"
   ]
  },
  {
   "cell_type": "code",
   "execution_count": 10,
   "metadata": {},
   "outputs": [
    {
     "name": "stdout",
     "output_type": "stream",
     "text": [
      "Found 17400 images belonging to 29 classes.\n"
     ]
    }
   ],
   "source": [
    "val_data = datagen.flow_from_directory(\n",
    "    \"datasets/asl_alphabet_train/asl_alphabet_train/\",\n",
    "    target_size=(IMG_SIZE, IMG_SIZE),\n",
    "    batch_size=BATCH_SIZE,\n",
    "    class_mode='categorical',\n",
    "    subset=\"validation\"\n",
    ")"
   ]
  },
  {
   "cell_type": "code",
   "execution_count": 11,
   "metadata": {},
   "outputs": [
    {
     "name": "stdout",
     "output_type": "stream",
     "text": [
      "{'A': 0, 'B': 1, 'C': 2, 'D': 3, 'E': 4, 'F': 5, 'G': 6, 'H': 7, 'I': 8, 'J': 9, 'K': 10, 'L': 11, 'M': 12, 'N': 13, 'O': 14, 'P': 15, 'Q': 16, 'R': 17, 'S': 18, 'T': 19, 'U': 20, 'V': 21, 'W': 22, 'X': 23, 'Y': 24, 'Z': 25, 'del': 26, 'nothing': 27, 'space': 28}\n"
     ]
    }
   ],
   "source": [
    "print(train_data.class_indices) #Verify Dataset Has 29 Classes"
   ]
  },
  {
   "cell_type": "markdown",
   "metadata": {},
   "source": [
    "## Train a CNN Model"
   ]
  },
  {
   "cell_type": "code",
   "execution_count": 12,
   "metadata": {},
   "outputs": [],
   "source": [
    "from tensorflow.keras.models import Sequential\n",
    "from tensorflow.keras.layers import Conv2D, MaxPooling2D, Flatten, Dense, Dropout"
   ]
  },
  {
   "cell_type": "markdown",
   "metadata": {},
   "source": [
    "### Build the CNN Model"
   ]
  },
  {
   "cell_type": "code",
   "execution_count": 13,
   "metadata": {},
   "outputs": [],
   "source": [
    "model = Sequential([\n",
    "    Conv2D(32, (3,3), activation='relu', input_shape=(64, 64, 3)),\n",
    "    MaxPooling2D(2,2),\n",
    "\n",
    "    Conv2D(64, (3,3), activation='relu'),\n",
    "    MaxPooling2D(2,2),\n",
    "\n",
    "    Flatten(),\n",
    "    Dense(128, activation='relu'),\n",
    "    Dropout(0.5),\n",
    "    Dense(29, activation='softmax')  # Change to 29 output classes\n",
    "])\n",
    "\n",
    "model.compile(optimizer='adam', loss='categorical_crossentropy', metrics=['accuracy'])\n"
   ]
  },
  {
   "cell_type": "code",
   "execution_count": 14,
   "metadata": {},
   "outputs": [
    {
     "name": "stdout",
     "output_type": "stream",
     "text": [
      "Epoch 1/20\n",
      "2175/2175 [==============================] - 160s 73ms/step - loss: 1.3507 - accuracy: 0.5781 - val_loss: 1.1066 - val_accuracy: 0.6567\n",
      "Epoch 2/20\n",
      "2175/2175 [==============================] - 98s 45ms/step - loss: 0.4263 - accuracy: 0.8510 - val_loss: 0.8203 - val_accuracy: 0.7497\n",
      "Epoch 3/20\n",
      "2175/2175 [==============================] - 97s 45ms/step - loss: 0.2597 - accuracy: 0.9092 - val_loss: 0.9263 - val_accuracy: 0.7293\n",
      "Epoch 4/20\n",
      "2175/2175 [==============================] - 97s 45ms/step - loss: 0.1867 - accuracy: 0.9335 - val_loss: 0.9042 - val_accuracy: 0.7269\n",
      "Epoch 5/20\n",
      "2175/2175 [==============================] - 96s 44ms/step - loss: 0.1490 - accuracy: 0.9485 - val_loss: 0.9984 - val_accuracy: 0.7249\n",
      "Epoch 6/20\n",
      "2175/2175 [==============================] - 97s 44ms/step - loss: 0.1248 - accuracy: 0.9569 - val_loss: 1.0032 - val_accuracy: 0.7338\n",
      "Epoch 7/20\n",
      "2175/2175 [==============================] - 96s 44ms/step - loss: 0.1088 - accuracy: 0.9632 - val_loss: 1.0000 - val_accuracy: 0.7535\n",
      "Epoch 8/20\n",
      "2175/2175 [==============================] - 96s 44ms/step - loss: 0.0939 - accuracy: 0.9669 - val_loss: 0.9833 - val_accuracy: 0.7774\n",
      "Epoch 9/20\n",
      "2175/2175 [==============================] - 96s 44ms/step - loss: 0.0840 - accuracy: 0.9708 - val_loss: 1.4386 - val_accuracy: 0.7356\n",
      "Epoch 10/20\n",
      "2175/2175 [==============================] - 97s 45ms/step - loss: 0.0776 - accuracy: 0.9734 - val_loss: 1.0894 - val_accuracy: 0.7590\n",
      "Epoch 11/20\n",
      "2175/2175 [==============================] - 96s 44ms/step - loss: 0.0698 - accuracy: 0.9760 - val_loss: 1.4894 - val_accuracy: 0.7503\n",
      "Epoch 12/20\n",
      "2175/2175 [==============================] - 96s 44ms/step - loss: 0.0659 - accuracy: 0.9780 - val_loss: 1.4638 - val_accuracy: 0.7393\n",
      "Epoch 13/20\n",
      "2175/2175 [==============================] - 98s 45ms/step - loss: 0.0617 - accuracy: 0.9797 - val_loss: 1.1094 - val_accuracy: 0.7702\n",
      "Epoch 14/20\n",
      "2175/2175 [==============================] - 97s 44ms/step - loss: 0.0554 - accuracy: 0.9809 - val_loss: 0.9692 - val_accuracy: 0.7843\n",
      "Epoch 15/20\n",
      "2175/2175 [==============================] - 96s 44ms/step - loss: 0.0544 - accuracy: 0.9817 - val_loss: 1.2091 - val_accuracy: 0.7807\n",
      "Epoch 16/20\n",
      "2175/2175 [==============================] - 98s 45ms/step - loss: 0.0529 - accuracy: 0.9830 - val_loss: 1.3281 - val_accuracy: 0.7565\n",
      "Epoch 17/20\n",
      "2175/2175 [==============================] - 99s 45ms/step - loss: 0.0489 - accuracy: 0.9843 - val_loss: 1.3376 - val_accuracy: 0.7601\n",
      "Epoch 18/20\n",
      "2175/2175 [==============================] - 96s 44ms/step - loss: 0.0471 - accuracy: 0.9845 - val_loss: 1.2444 - val_accuracy: 0.7651\n",
      "Epoch 19/20\n",
      "2175/2175 [==============================] - 97s 45ms/step - loss: 0.0449 - accuracy: 0.9852 - val_loss: 1.2382 - val_accuracy: 0.7673\n",
      "Epoch 20/20\n",
      "2175/2175 [==============================] - 98s 45ms/step - loss: 0.0460 - accuracy: 0.9862 - val_loss: 0.9665 - val_accuracy: 0.7918\n"
     ]
    }
   ],
   "source": [
    "# Train the Model\n",
    "histroy = model.fit(train_data, validation_data=val_data, epochs=20)"
   ]
  },
  {
   "cell_type": "code",
   "execution_count": 16,
   "metadata": {},
   "outputs": [],
   "source": [
    "history = histroy"
   ]
  },
  {
   "cell_type": "code",
   "execution_count": 17,
   "metadata": {},
   "outputs": [],
   "source": [
    "# Save history\n",
    "import pickle\n",
    "\n",
    "with open(\"training_history.pkl\", \"wb\") as f:\n",
    "    pickle.dump(history.history, f)"
   ]
  },
  {
   "cell_type": "code",
   "execution_count": 18,
   "metadata": {},
   "outputs": [
    {
     "name": "stderr",
     "output_type": "stream",
     "text": [
      "d:\\ASL\\ASL_DETECTION\\.venv\\lib\\site-packages\\keras\\src\\engine\\training.py:3000: UserWarning: You are saving your model as an HDF5 file via `model.save()`. This file format is considered legacy. We recommend using instead the native Keras format, e.g. `model.save('my_model.keras')`.\n",
      "  saving_api.save_model(\n"
     ]
    }
   ],
   "source": [
    "# Save the Model\n",
    "model.save(\"asl_sign_language_model.h5\")"
   ]
  },
  {
   "cell_type": "markdown",
   "metadata": {},
   "source": [
    "### Testing"
   ]
  },
  {
   "cell_type": "markdown",
   "metadata": {},
   "source": [
    "#### Load the Test Dataset"
   ]
  },
  {
   "cell_type": "code",
   "execution_count": 39,
   "metadata": {},
   "outputs": [],
   "source": [
    "# Imports\n",
    "from tensorflow.keras.preprocessing.image import ImageDataGenerator"
   ]
  },
  {
   "cell_type": "markdown",
   "metadata": {},
   "source": [
    "#### load the model"
   ]
  },
  {
   "cell_type": "code",
   "execution_count": 40,
   "metadata": {},
   "outputs": [
    {
     "name": "stdout",
     "output_type": "stream",
     "text": [
      "Model Loaded Successfully!\n"
     ]
    }
   ],
   "source": [
    "from tensorflow.keras.models import load_model\n",
    "\n",
    "# Load the trained model\n",
    "model = load_model(\"asl_sign_language_model.h5\")\n",
    "\n",
    "print(\"Model Loaded Successfully!\")"
   ]
  },
  {
   "cell_type": "code",
   "execution_count": 41,
   "metadata": {},
   "outputs": [
    {
     "name": "stdout",
     "output_type": "stream",
     "text": [
      "Found 29 images belonging to 29 classes.\n"
     ]
    }
   ],
   "source": [
    "# Define test data directory\n",
    "test_dir = \"datasets/asl_alphabet_test/asl_alphabet_test/\"\n",
    "\n",
    "# Create test data generator\n",
    "test_datagen = ImageDataGenerator(rescale=1./255)\n",
    "\n",
    "# Get class names from training data\n",
    "class_labels = sorted(train_data.class_indices.keys())\n",
    "\n",
    "# Load test images\n",
    "test_data = test_datagen.flow_from_directory(\n",
    "    test_dir,\n",
    "    target_size=(64, 64),  # Make sure this matches your model input size\n",
    "    batch_size=32,\n",
    "    class_mode=\"categorical\",\n",
    "    shuffle=False  # Keep order to match predictions\n",
    "    # classes=list(train_data.class_indices.keys())  # Forceing same class order\n",
    ")\n",
    "\n",
    "# Ensure model predictions follow the correct class order\n",
    "test_data.class_indices = {label: i for i, label in enumerate(class_labels)}"
   ]
  },
  {
   "cell_type": "markdown",
   "metadata": {},
   "source": [
    "#### Evaluate the Model on Test Data"
   ]
  },
  {
   "cell_type": "code",
   "execution_count": 42,
   "metadata": {},
   "outputs": [
    {
     "name": "stdout",
     "output_type": "stream",
     "text": [
      "1/1 [==============================] - 0s 133ms/step - loss: 1.3894e-06 - accuracy: 1.0000\n",
      "Test Accuracy: 100.00%\n",
      "Test Loss: 0.0000\n"
     ]
    }
   ],
   "source": [
    "test_loss, test_acc = model.evaluate(test_data)\n",
    "print(f\"Test Accuracy: {test_acc:.2%}\")\n",
    "print(f\"Test Loss: {test_loss:.4f}\")"
   ]
  },
  {
   "cell_type": "markdown",
   "metadata": {},
   "source": [
    "#### Get Predictions & Confusion Matrix"
   ]
  },
  {
   "cell_type": "code",
   "execution_count": 43,
   "metadata": {},
   "outputs": [],
   "source": [
    "# Imports\n",
    "import numpy as np\n",
    "import seaborn as sns\n",
    "import matplotlib.pyplot as plt\n",
    "from sklearn.metrics import confusion_matrix, classification_report"
   ]
  },
  {
   "cell_type": "code",
   "execution_count": 44,
   "metadata": {},
   "outputs": [
    {
     "name": "stdout",
     "output_type": "stream",
     "text": [
      "1/1 [==============================] - 0s 67ms/step\n"
     ]
    },
    {
     "data": {
      "image/png": "[encoded data removed]",
      "text/plain": [
       "<Figure size 1000x800 with 2 Axes>"
      ]
     },
     "metadata": {},
     "output_type": "display_data"
    }
   ],
   "source": [
    "\n",
    "# Get predicted labels\n",
    "y_pred = model.predict(test_data)\n",
    "y_pred_classes = np.argmax(y_pred, axis=1)\n",
    "\n",
    "# Get true labels\n",
    "y_true = test_data.classes\n",
    "class_labels = list(test_data.class_indices.keys())\n",
    "\n",
    "# Confusion matrix\n",
    "cm = confusion_matrix(y_true, y_pred_classes)\n",
    "\n",
    "# Plot Confusion Matrix\n",
    "plt.figure(figsize=(10, 8))\n",
    "sns.heatmap(cm, annot=True, fmt=\"d\", cmap=\"Blues\", xticklabels=class_labels, yticklabels=class_labels)\n",
    "plt.xlabel(\"Predicted\")\n",
    "plt.ylabel(\"Actual\")\n",
    "plt.title(\"Confusion Matrix\")\n",
    "plt.show()\n"
   ]
  },
  {
   "cell_type": "markdown",
   "metadata": {},
   "source": [
    "#### Classification Report"
   ]
  },
  {
   "cell_type": "code",
   "execution_count": 45,
   "metadata": {},
   "outputs": [
    {
     "name": "stdout",
     "output_type": "stream",
     "text": [
      "Expected classes (from training): 29\n",
      "Unique classes in y_true: 29\n",
      "Unique classes in y_pred_classes: 29\n",
      "Total class labels: 29\n",
      "Class labels: ['A', 'B', 'C', 'D', 'E', 'F', 'G', 'H', 'I', 'J', 'K', 'L', 'M', 'N', 'O', 'P', 'Q', 'R', 'S', 'T', 'U', 'V', 'W', 'X', 'Y', 'Z', 'del', 'nothing', 'space']\n",
      "Adjusted class labels: ['A', 'B', 'C', 'D', 'E', 'F', 'G', 'H', 'I', 'J', 'K', 'L', 'M', 'N', 'O', 'P', 'Q', 'R', 'S', 'T', 'U', 'V', 'W', 'X', 'Y', 'Z', 'del', 'nothing', 'space']\n",
      "              precision    recall  f1-score   support\n",
      "\n",
      "           A       1.00      1.00      1.00         1\n",
      "           B       1.00      1.00      1.00         1\n",
      "           C       1.00      1.00      1.00         1\n",
      "           D       1.00      1.00      1.00         1\n",
      "           E       1.00      1.00      1.00         1\n",
      "           F       1.00      1.00      1.00         1\n",
      "           G       1.00      1.00      1.00         1\n",
      "           H       1.00      1.00      1.00         1\n",
      "           I       1.00      1.00      1.00         1\n",
      "           J       1.00      1.00      1.00         1\n",
      "           K       1.00      1.00      1.00         1\n",
      "           L       1.00      1.00      1.00         1\n",
      "           M       1.00      1.00      1.00         1\n",
      "           N       1.00      1.00      1.00         1\n",
      "           O       1.00      1.00      1.00         1\n",
      "           P       1.00      1.00      1.00         1\n",
      "           Q       1.00      1.00      1.00         1\n",
      "           R       1.00      1.00      1.00         1\n",
      "           S       1.00      1.00      1.00         1\n",
      "           T       1.00      1.00      1.00         1\n",
      "           U       1.00      1.00      1.00         1\n",
      "           V       1.00      1.00      1.00         1\n",
      "           W       1.00      1.00      1.00         1\n",
      "           X       1.00      1.00      1.00         1\n",
      "           Y       1.00      1.00      1.00         1\n",
      "           Z       1.00      1.00      1.00         1\n",
      "         del       1.00      1.00      1.00         1\n",
      "     nothing       1.00      1.00      1.00         1\n",
      "       space       1.00      1.00      1.00         1\n",
      "\n",
      "    accuracy                           1.00        29\n",
      "   macro avg       1.00      1.00      1.00        29\n",
      "weighted avg       1.00      1.00      1.00        29\n",
      "\n"
     ]
    }
   ],
   "source": [
    "print(f\"Expected classes (from training): 29\")\n",
    "print(f\"Unique classes in y_true: {len(set(y_true))}\")\n",
    "print(f\"Unique classes in y_pred_classes: {len(set(y_pred_classes))}\")\n",
    "print(f\"Total class labels: {len(class_labels)}\")\n",
    "print(f\"Class labels: {class_labels}\")\n",
    "\n",
    "class_labels = list(train_data.class_indices.keys())  # Ensure correct order\n",
    "print(f\"Adjusted class labels: {class_labels}\")\n",
    "\n",
    "print(classification_report(y_true, y_pred_classes, target_names=class_labels))"
   ]
  },
  {
   "cell_type": "markdown",
   "metadata": {},
   "source": [
    "####  Accuracy & Loss Curves"
   ]
  },
  {
   "cell_type": "code",
   "execution_count": 46,
   "metadata": {},
   "outputs": [
    {
     "data": {
      "image/png": "[encoded data removed]",
      "text/plain": [
       "<Figure size 640x480 with 1 Axes>"
      ]
     },
     "metadata": {},
     "output_type": "display_data"
    }
   ],
   "source": [
    "# Plot training history\n",
    "import pickle\n",
    "\n",
    "# Load history\n",
    "with open(\"training_history.pkl\", \"rb\") as f:\n",
    "    history = pickle.load(f)\n",
    "\n",
    "# Plot accuracy and loss\n",
    "plt.plot(history[\"accuracy\"], label=\"Train Accuracy\")\n",
    "plt.plot(history[\"val_accuracy\"], label=\"Validation Accuracy\")\n",
    "plt.xlabel(\"Epochs\")\n",
    "plt.ylabel(\"Accuracy\")\n",
    "plt.legend()\n",
    "plt.show()\n"
   ]
  }
 ],
 "metadata": {
  "kernelspec": {
   "display_name": ".venv",
   "language": "python",
   "name": "python3"
  },
  "language_info": {
   "codemirror_mode": {
    "name": "ipython",
    "version": 3
   },
   "file_extension": ".py",
   "mimetype": "text/x-python",
   "name": "python",
   "nbconvert_exporter": "python",
   "pygments_lexer": "ipython3",
   "version": "3.8.1"
  }
 },
 "nbformat": 4,
 "nbformat_minor": 2
}
